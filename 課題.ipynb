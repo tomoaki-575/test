{
  "nbformat": 4,
  "nbformat_minor": 0,
  "metadata": {
    "colab": {
      "name": "課題.ipynb",
      "provenance": [],
      "collapsed_sections": [],
      "authorship_tag": "ABX9TyN6ajLKt4dfyPySKrs3kglC",
      "include_colab_link": true
    },
    "kernelspec": {
      "name": "python3",
      "display_name": "Python 3"
    },
    "language_info": {
      "name": "python"
    }
  },
  "cells": [
    {
      "cell_type": "markdown",
      "metadata": {
        "id": "view-in-github",
        "colab_type": "text"
      },
      "source": [
        "<a href=\"https://colab.research.google.com/github/tomoaki-575/test/blob/main/%E8%AA%B2%E9%A1%8C.ipynb\" target=\"_parent\"><img src=\"https://colab.research.google.com/assets/colab-badge.svg\" alt=\"Open In Colab\"/></a>"
      ]
    },
    {
      "cell_type": "code",
      "source": [
        "# 必要なモジュールをインポート\n",
        "import numpy as np\n",
        "from scipy.special import factorial\n",
        "\n",
        "\n",
        "# 式1 線形カメラモデル\n",
        "def x_star(g, alpha, u_star):\n",
        "# gはアナログ増幅由来のノイズ\n",
        "# alphaは量子効率係数\n",
        "# u_starはピクセル領域に検出される光子数の予測値\n",
        "    return g * alpha * u_star\n",
        "\n",
        "\n",
        "#　式２　ノイズ考慮した線形カメラモデル\n",
        "def x(g, alpha, u, nd, nr):\n",
        "# gはアナログ増幅由来のノイズ\n",
        "# alphaは量子効率係数\n",
        "# uはピクセル領域に検出される実際の光子数\n",
        "# ndはダークノイズ\n",
        "# nrは量子化のノイズ\n",
        "    return g * (alpha * u + nd) + nr\n",
        "\n",
        "\n",
        "# 式３　Uはu_starポアソン分布に従う\n",
        "def U(lam, u_star):\n",
        "# u_starはピクセル領域に検出される光子数の予測値\n",
        "# lamはパラメータλ\n",
        "    u_star = int(u_star)\n",
        "    return np.power(lam, u_star) / factorial(u_star) * np.exp(-lam)\n",
        "\n",
        "\n",
        "# Ndは期待値０、分散（σｄ）^2の正規分布に従う\n",
        "def Nd(nd, sigma_d, mu_d=0):\n",
        "    return 1 / np.sqrt(2 * np.pi * sigma_d) * np.exp(-(nd - mu_d)**2 / (2 * sigma_d**2))\n",
        "\n",
        "# Nrは期待値0、分散(σr)^2の正規分布に従う\n",
        "def Nr(nr, sigma_r, mu_r=0):\n",
        "    return 1 / np.sqrt(2 * np.pi * sigma_r) * np.exp(-(nr-mu_r)**2 / (2 * sigma_r**2))\n",
        "\n",
        "# Nは期待値mu、分散sigma^2の正規分布に従う\n",
        "def N(n, mu, sigma_sqared):\n",
        "    return 1 / np.sqrt(2 * np.pi * np.sqrt(sigma_sqared)) * np.exp(-(n - mu)**2 / (2 * sigma_sqared))\n",
        "\n",
        "\n",
        "# 式4, 5　(式1, 2, 3)を組合せる\n",
        "def x_transformed(g, alpha, u_star, lam, nd, nr, sigma_d, sigma_r):\n",
        "# gはアナログ増幅由来のノイズ\n",
        "# alphaは量子効率係数\n",
        "# u_starはピクセル領域に検出される光子数の予測値\n",
        "# lamはパラメータλ\n",
        "# ndはダークノイズ\n",
        "# nrは量子化のノイズ\n",
        "# sigma_dはndが従う標準正規分布の標準偏差\n",
        "# sigma_rはnrが従う標準正規分布の標準偏差\n",
        "    k = g * alpha\n",
        "    n = g * nd + nr\n",
        "    sigma_sqared = g**2 * sigma_d**2 + sigma_r**2\n",
        "    u_star = x_star(g, alpha, u_star) / k\n",
        "    \n",
        "    return k * U(lam, u_star) + N(n, 0, sigma_sqared)"
      ],
      "metadata": {
        "id": "LEIi2XSP3-sh"
      },
      "execution_count": 73,
      "outputs": []
    }
  ]
}